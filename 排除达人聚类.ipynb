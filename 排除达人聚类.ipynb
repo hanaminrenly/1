{
 "cells": [
  {
   "cell_type": "code",
   "execution_count": 1,
   "metadata": {},
   "outputs": [],
   "source": [
    "import pandas as pd"
   ]
  },
  {
   "cell_type": "code",
   "execution_count": 4,
   "metadata": {},
   "outputs": [],
   "source": [
    "d = pd.read_csv(r'C:\\Users\\hanaminrenly\\Downloads\\排除达人.csv', usecols = ['user_id', '直卖佣金', 'yongjin_amt', 'pay_amt',\n",
    "       'cashout_amt'])"
   ]
  },
  {
   "cell_type": "code",
   "execution_count": 5,
   "metadata": {
    "scrolled": true
   },
   "outputs": [
    {
     "data": {
      "text/plain": [
       "Index(['user_id', '直卖佣金', 'yongjin_amt', 'pay_amt', 'cashout_amt'], dtype='object')"
      ]
     },
     "execution_count": 5,
     "metadata": {},
     "output_type": "execute_result"
    }
   ],
   "source": [
    "d.columns"
   ]
  },
  {
   "cell_type": "code",
   "execution_count": 6,
   "metadata": {},
   "outputs": [
    {
     "data": {
      "text/html": [
       "<div>\n",
       "<style scoped>\n",
       "    .dataframe tbody tr th:only-of-type {\n",
       "        vertical-align: middle;\n",
       "    }\n",
       "\n",
       "    .dataframe tbody tr th {\n",
       "        vertical-align: top;\n",
       "    }\n",
       "\n",
       "    .dataframe thead th {\n",
       "        text-align: right;\n",
       "    }\n",
       "</style>\n",
       "<table border=\"1\" class=\"dataframe\">\n",
       "  <thead>\n",
       "    <tr style=\"text-align: right;\">\n",
       "      <th></th>\n",
       "      <th>user_id</th>\n",
       "      <th>直卖佣金</th>\n",
       "      <th>yongjin_amt</th>\n",
       "      <th>pay_amt</th>\n",
       "      <th>cashout_amt</th>\n",
       "    </tr>\n",
       "  </thead>\n",
       "  <tbody>\n",
       "    <tr>\n",
       "      <th>count</th>\n",
       "      <td>5.190562e+06</td>\n",
       "      <td>5.190562e+06</td>\n",
       "      <td>5.190562e+06</td>\n",
       "      <td>5.190562e+06</td>\n",
       "      <td>5.190562e+06</td>\n",
       "    </tr>\n",
       "    <tr>\n",
       "      <th>mean</th>\n",
       "      <td>6.195226e+07</td>\n",
       "      <td>5.468003e+01</td>\n",
       "      <td>2.446012e+01</td>\n",
       "      <td>7.069394e+02</td>\n",
       "      <td>5.853184e+01</td>\n",
       "    </tr>\n",
       "    <tr>\n",
       "      <th>std</th>\n",
       "      <td>4.104197e+07</td>\n",
       "      <td>1.272131e+03</td>\n",
       "      <td>8.334793e+03</td>\n",
       "      <td>2.672434e+05</td>\n",
       "      <td>1.591653e+03</td>\n",
       "    </tr>\n",
       "    <tr>\n",
       "      <th>min</th>\n",
       "      <td>0.000000e+00</td>\n",
       "      <td>0.000000e+00</td>\n",
       "      <td>0.000000e+00</td>\n",
       "      <td>0.000000e+00</td>\n",
       "      <td>0.000000e+00</td>\n",
       "    </tr>\n",
       "    <tr>\n",
       "      <th>25%</th>\n",
       "      <td>2.479313e+07</td>\n",
       "      <td>8.000000e+00</td>\n",
       "      <td>0.000000e+00</td>\n",
       "      <td>0.000000e+00</td>\n",
       "      <td>0.000000e+00</td>\n",
       "    </tr>\n",
       "    <tr>\n",
       "      <th>50%</th>\n",
       "      <td>5.864987e+07</td>\n",
       "      <td>1.700000e+01</td>\n",
       "      <td>0.000000e+00</td>\n",
       "      <td>0.000000e+00</td>\n",
       "      <td>0.000000e+00</td>\n",
       "    </tr>\n",
       "    <tr>\n",
       "      <th>75%</th>\n",
       "      <td>9.557837e+07</td>\n",
       "      <td>4.500000e+01</td>\n",
       "      <td>0.000000e+00</td>\n",
       "      <td>0.000000e+00</td>\n",
       "      <td>0.000000e+00</td>\n",
       "    </tr>\n",
       "    <tr>\n",
       "      <th>max</th>\n",
       "      <td>1.515114e+08</td>\n",
       "      <td>1.377527e+06</td>\n",
       "      <td>1.884935e+07</td>\n",
       "      <td>6.046502e+08</td>\n",
       "      <td>1.273106e+06</td>\n",
       "    </tr>\n",
       "  </tbody>\n",
       "</table>\n",
       "</div>"
      ],
      "text/plain": [
       "            user_id          直卖佣金   yongjin_amt       pay_amt   cashout_amt\n",
       "count  5.190562e+06  5.190562e+06  5.190562e+06  5.190562e+06  5.190562e+06\n",
       "mean   6.195226e+07  5.468003e+01  2.446012e+01  7.069394e+02  5.853184e+01\n",
       "std    4.104197e+07  1.272131e+03  8.334793e+03  2.672434e+05  1.591653e+03\n",
       "min    0.000000e+00  0.000000e+00  0.000000e+00  0.000000e+00  0.000000e+00\n",
       "25%    2.479313e+07  8.000000e+00  0.000000e+00  0.000000e+00  0.000000e+00\n",
       "50%    5.864987e+07  1.700000e+01  0.000000e+00  0.000000e+00  0.000000e+00\n",
       "75%    9.557837e+07  4.500000e+01  0.000000e+00  0.000000e+00  0.000000e+00\n",
       "max    1.515114e+08  1.377527e+06  1.884935e+07  6.046502e+08  1.273106e+06"
      ]
     },
     "execution_count": 6,
     "metadata": {},
     "output_type": "execute_result"
    }
   ],
   "source": [
    "d.describe()"
   ]
  },
  {
   "cell_type": "code",
   "execution_count": 7,
   "metadata": {},
   "outputs": [],
   "source": [
    "from sklearn.cluster import KMeans \n",
    "from sklearn.preprocessing import StandardScaler"
   ]
  },
  {
   "cell_type": "code",
   "execution_count": 9,
   "metadata": {},
   "outputs": [],
   "source": [
    "var = d[['直卖佣金', 'yongjin_amt', 'cashout_amt']]"
   ]
  },
  {
   "cell_type": "code",
   "execution_count": 10,
   "metadata": {},
   "outputs": [],
   "source": [
    "scaler = StandardScaler()\n",
    "scaled_variables = scaler.fit_transform(var)"
   ]
  },
  {
   "cell_type": "code",
   "execution_count": 11,
   "metadata": {},
   "outputs": [],
   "source": [
    "sum_of_squared_distances = []\n",
    "K = range(3,7)\n",
    "for k in K:\n",
    "    km = KMeans(n_clusters=k, init='random', n_init=10, random_state = 42)\n",
    "    km = km.fit(scaled_variables)\n",
    "    sum_of_squared_distances.append(km.inertia_)"
   ]
  },
  {
   "cell_type": "code",
   "execution_count": 12,
   "metadata": {},
   "outputs": [],
   "source": [
    "from matplotlib import pyplot as plt"
   ]
  },
  {
   "cell_type": "code",
   "execution_count": 13,
   "metadata": {
    "scrolled": true
   },
   "outputs": [
    {
     "data": {
      "image/png": "[encoded data removed]",
      "text/plain": [
       "<Figure size 432x288 with 1 Axes>"
      ]
     },
     "metadata": {
      "needs_background": "light"
     },
     "output_type": "display_data"
    }
   ],
   "source": [
    "plt.plot(K, sum_of_squared_distances, 'bx-')\n",
    "plt.xlabel('# of clusters')\n",
    "plt.ylabel('sum_of_squared_distances')\n",
    "plt.title('Elbow chart for optimal # of clusters')\n",
    "plt.show()"
   ]
  },
  {
   "cell_type": "code",
   "execution_count": 14,
   "metadata": {
    "scrolled": true
   },
   "outputs": [
    {
     "name": "stderr",
     "output_type": "stream",
     "text": [
      "<ipython-input-14-ab6cfef6b4f0>:3: SettingWithCopyWarning: \n",
      "A value is trying to be set on a copy of a slice from a DataFrame.\n",
      "Try using .loc[row_indexer,col_indexer] = value instead\n",
      "\n",
      "See the caveats in the documentation: https://pandas.pydata.org/pandas-docs/stable/user_guide/indexing.html#returning-a-view-versus-a-copy\n",
      "  var['cluster'] = pred_y\n"
     ]
    },
    {
     "data": {
      "text/html": [
       "<div>\n",
       "<style scoped>\n",
       "    .dataframe tbody tr th:only-of-type {\n",
       "        vertical-align: middle;\n",
       "    }\n",
       "\n",
       "    .dataframe tbody tr th {\n",
       "        vertical-align: top;\n",
       "    }\n",
       "\n",
       "    .dataframe thead th {\n",
       "        text-align: right;\n",
       "    }\n",
       "</style>\n",
       "<table border=\"1\" class=\"dataframe\">\n",
       "  <thead>\n",
       "    <tr style=\"text-align: right;\">\n",
       "      <th></th>\n",
       "      <th>直卖佣金</th>\n",
       "      <th>yongjin_amt</th>\n",
       "      <th>cashout_amt</th>\n",
       "      <th>cluster</th>\n",
       "    </tr>\n",
       "  </thead>\n",
       "  <tbody>\n",
       "    <tr>\n",
       "      <th>count</th>\n",
       "      <td>5.190562e+06</td>\n",
       "      <td>5.190562e+06</td>\n",
       "      <td>5.190562e+06</td>\n",
       "      <td>5.190562e+06</td>\n",
       "    </tr>\n",
       "    <tr>\n",
       "      <th>mean</th>\n",
       "      <td>5.468003e+01</td>\n",
       "      <td>2.446012e+01</td>\n",
       "      <td>5.853184e+01</td>\n",
       "      <td>7.633085e-04</td>\n",
       "    </tr>\n",
       "    <tr>\n",
       "      <th>std</th>\n",
       "      <td>1.272131e+03</td>\n",
       "      <td>8.334793e+03</td>\n",
       "      <td>1.591653e+03</td>\n",
       "      <td>3.901021e-02</td>\n",
       "    </tr>\n",
       "    <tr>\n",
       "      <th>min</th>\n",
       "      <td>0.000000e+00</td>\n",
       "      <td>0.000000e+00</td>\n",
       "      <td>0.000000e+00</td>\n",
       "      <td>0.000000e+00</td>\n",
       "    </tr>\n",
       "    <tr>\n",
       "      <th>25%</th>\n",
       "      <td>8.000000e+00</td>\n",
       "      <td>0.000000e+00</td>\n",
       "      <td>0.000000e+00</td>\n",
       "      <td>0.000000e+00</td>\n",
       "    </tr>\n",
       "    <tr>\n",
       "      <th>50%</th>\n",
       "      <td>1.700000e+01</td>\n",
       "      <td>0.000000e+00</td>\n",
       "      <td>0.000000e+00</td>\n",
       "      <td>0.000000e+00</td>\n",
       "    </tr>\n",
       "    <tr>\n",
       "      <th>75%</th>\n",
       "      <td>4.500000e+01</td>\n",
       "      <td>0.000000e+00</td>\n",
       "      <td>0.000000e+00</td>\n",
       "      <td>0.000000e+00</td>\n",
       "    </tr>\n",
       "    <tr>\n",
       "      <th>max</th>\n",
       "      <td>1.377527e+06</td>\n",
       "      <td>1.884935e+07</td>\n",
       "      <td>1.273106e+06</td>\n",
       "      <td>4.000000e+00</td>\n",
       "    </tr>\n",
       "  </tbody>\n",
       "</table>\n",
       "</div>"
      ],
      "text/plain": [
       "               直卖佣金   yongjin_amt   cashout_amt       cluster\n",
       "count  5.190562e+06  5.190562e+06  5.190562e+06  5.190562e+06\n",
       "mean   5.468003e+01  2.446012e+01  5.853184e+01  7.633085e-04\n",
       "std    1.272131e+03  8.334793e+03  1.591653e+03  3.901021e-02\n",
       "min    0.000000e+00  0.000000e+00  0.000000e+00  0.000000e+00\n",
       "25%    8.000000e+00  0.000000e+00  0.000000e+00  0.000000e+00\n",
       "50%    1.700000e+01  0.000000e+00  0.000000e+00  0.000000e+00\n",
       "75%    4.500000e+01  0.000000e+00  0.000000e+00  0.000000e+00\n",
       "max    1.377527e+06  1.884935e+07  1.273106e+06  4.000000e+00"
      ]
     },
     "execution_count": 14,
     "metadata": {},
     "output_type": "execute_result"
    }
   ],
   "source": [
    "kmeans = KMeans(n_clusters= 5, init='random', n_init=10, random_state = 42)\n",
    "pred_y = kmeans.fit_predict(scaled_variables)\n",
    "var['cluster'] = pred_y\n",
    "var.describe()"
   ]
  },
  {
   "cell_type": "code",
   "execution_count": 15,
   "metadata": {},
   "outputs": [],
   "source": [
    "output = pd.concat([var[['cluster']].reset_index(drop=True),d.reset_index(drop=True)], axis=1)"
   ]
  },
  {
   "cell_type": "code",
   "execution_count": 16,
   "metadata": {
    "scrolled": true
   },
   "outputs": [
    {
     "data": {
      "text/html": [
       "<div>\n",
       "<style scoped>\n",
       "    .dataframe tbody tr th:only-of-type {\n",
       "        vertical-align: middle;\n",
       "    }\n",
       "\n",
       "    .dataframe tbody tr th {\n",
       "        vertical-align: top;\n",
       "    }\n",
       "\n",
       "    .dataframe thead th {\n",
       "        text-align: right;\n",
       "    }\n",
       "</style>\n",
       "<table border=\"1\" class=\"dataframe\">\n",
       "  <thead>\n",
       "    <tr style=\"text-align: right;\">\n",
       "      <th></th>\n",
       "      <th>cluster</th>\n",
       "      <th>user_id</th>\n",
       "      <th>直卖佣金</th>\n",
       "      <th>yongjin_amt</th>\n",
       "      <th>pay_amt</th>\n",
       "      <th>cashout_amt</th>\n",
       "    </tr>\n",
       "  </thead>\n",
       "  <tbody>\n",
       "    <tr>\n",
       "      <th>count</th>\n",
       "      <td>5.190562e+06</td>\n",
       "      <td>5.190562e+06</td>\n",
       "      <td>5.190562e+06</td>\n",
       "      <td>5.190562e+06</td>\n",
       "      <td>5.190562e+06</td>\n",
       "      <td>5.190562e+06</td>\n",
       "    </tr>\n",
       "    <tr>\n",
       "      <th>mean</th>\n",
       "      <td>7.633085e-04</td>\n",
       "      <td>6.195226e+07</td>\n",
       "      <td>5.468003e+01</td>\n",
       "      <td>2.446012e+01</td>\n",
       "      <td>7.069394e+02</td>\n",
       "      <td>5.853184e+01</td>\n",
       "    </tr>\n",
       "    <tr>\n",
       "      <th>std</th>\n",
       "      <td>3.901021e-02</td>\n",
       "      <td>4.104197e+07</td>\n",
       "      <td>1.272131e+03</td>\n",
       "      <td>8.334793e+03</td>\n",
       "      <td>2.672434e+05</td>\n",
       "      <td>1.591653e+03</td>\n",
       "    </tr>\n",
       "    <tr>\n",
       "      <th>min</th>\n",
       "      <td>0.000000e+00</td>\n",
       "      <td>0.000000e+00</td>\n",
       "      <td>0.000000e+00</td>\n",
       "      <td>0.000000e+00</td>\n",
       "      <td>0.000000e+00</td>\n",
       "      <td>0.000000e+00</td>\n",
       "    </tr>\n",
       "    <tr>\n",
       "      <th>25%</th>\n",
       "      <td>0.000000e+00</td>\n",
       "      <td>2.479313e+07</td>\n",
       "      <td>8.000000e+00</td>\n",
       "      <td>0.000000e+00</td>\n",
       "      <td>0.000000e+00</td>\n",
       "      <td>0.000000e+00</td>\n",
       "    </tr>\n",
       "    <tr>\n",
       "      <th>50%</th>\n",
       "      <td>0.000000e+00</td>\n",
       "      <td>5.864987e+07</td>\n",
       "      <td>1.700000e+01</td>\n",
       "      <td>0.000000e+00</td>\n",
       "      <td>0.000000e+00</td>\n",
       "      <td>0.000000e+00</td>\n",
       "    </tr>\n",
       "    <tr>\n",
       "      <th>75%</th>\n",
       "      <td>0.000000e+00</td>\n",
       "      <td>9.557837e+07</td>\n",
       "      <td>4.500000e+01</td>\n",
       "      <td>0.000000e+00</td>\n",
       "      <td>0.000000e+00</td>\n",
       "      <td>0.000000e+00</td>\n",
       "    </tr>\n",
       "    <tr>\n",
       "      <th>max</th>\n",
       "      <td>4.000000e+00</td>\n",
       "      <td>1.515114e+08</td>\n",
       "      <td>1.377527e+06</td>\n",
       "      <td>1.884935e+07</td>\n",
       "      <td>6.046502e+08</td>\n",
       "      <td>1.273106e+06</td>\n",
       "    </tr>\n",
       "  </tbody>\n",
       "</table>\n",
       "</div>"
      ],
      "text/plain": [
       "            cluster       user_id          直卖佣金   yongjin_amt       pay_amt  \\\n",
       "count  5.190562e+06  5.190562e+06  5.190562e+06  5.190562e+06  5.190562e+06   \n",
       "mean   7.633085e-04  6.195226e+07  5.468003e+01  2.446012e+01  7.069394e+02   \n",
       "std    3.901021e-02  4.104197e+07  1.272131e+03  8.334793e+03  2.672434e+05   \n",
       "min    0.000000e+00  0.000000e+00  0.000000e+00  0.000000e+00  0.000000e+00   \n",
       "25%    0.000000e+00  2.479313e+07  8.000000e+00  0.000000e+00  0.000000e+00   \n",
       "50%    0.000000e+00  5.864987e+07  1.700000e+01  0.000000e+00  0.000000e+00   \n",
       "75%    0.000000e+00  9.557837e+07  4.500000e+01  0.000000e+00  0.000000e+00   \n",
       "max    4.000000e+00  1.515114e+08  1.377527e+06  1.884935e+07  6.046502e+08   \n",
       "\n",
       "        cashout_amt  \n",
       "count  5.190562e+06  \n",
       "mean   5.853184e+01  \n",
       "std    1.591653e+03  \n",
       "min    0.000000e+00  \n",
       "25%    0.000000e+00  \n",
       "50%    0.000000e+00  \n",
       "75%    0.000000e+00  \n",
       "max    1.273106e+06  "
      ]
     },
     "execution_count": 16,
     "metadata": {},
     "output_type": "execute_result"
    }
   ],
   "source": [
    "output.describe()"
   ]
  },
  {
   "cell_type": "code",
   "execution_count": 17,
   "metadata": {},
   "outputs": [],
   "source": [
    "output.to_csv(r'C:\\Users\\hanaminrenly\\Downloads\\域外值达人聚类结果new.csv')"
   ]
  }
 ],
 "metadata": {
  "kernelspec": {
   "display_name": "Python 3",
   "language": "python",
   "name": "python3"
  },
  "language_info": {
   "codemirror_mode": {
    "name": "ipython",
    "version": 3
   },
   "file_extension": ".py",
   "mimetype": "text/x-python",
   "name": "python",
   "nbconvert_exporter": "python",
   "pygments_lexer": "ipython3",
   "version": "3.8.5"
  }
 },
 "nbformat": 4,
 "nbformat_minor": 4
}
